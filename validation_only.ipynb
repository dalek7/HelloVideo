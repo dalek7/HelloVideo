{
 "cells": [
  {
   "cell_type": "markdown",
   "metadata": {},
   "source": [
    "### Import libraries"
   ]
  },
  {
   "cell_type": "code",
   "execution_count": 1,
   "metadata": {},
   "outputs": [],
   "source": [
    "import os\n",
    "os.environ[\"CUDA_DEVICE_ORDER\"]=\"PCI_BUS_ID\"\n",
    "os.environ[\"CUDA_VISIBLE_DEVICES\"]=\"{}\".format(0) # gpu idx\n",
    "from tensorflow.keras.models import load_model\n",
    "from data import CNN3DDataLoader\n",
    "import numpy as np"
   ]
  },
  {
   "cell_type": "markdown",
   "metadata": {},
   "source": [
    "### Load trained model"
   ]
  },
  {
   "cell_type": "code",
   "execution_count": 2,
   "metadata": {},
   "outputs": [
    {
     "name": "stdout",
     "output_type": "stream",
     "text": [
      "./output/small_c3d_CL12_train416_val180/model_small_c3d.h5\n"
     ]
    }
   ],
   "source": [
    "np.random.seed(4)\n",
    "\n",
    "data_dir = './data_extracted/'\n",
    "seq_length = 100\n",
    "batch_size = 4\n",
    "image_size = (128, 128)\n",
    "\n",
    "data = CNN3DDataLoader(data_dir, seq_length=seq_length, n_videos={'train': None, 'validation': None}, labels=None)\n",
    "train_gen = data.sequence_generator('train', batch_size, image_size)\n",
    "validation_gen = data.sequence_generator('validation', batch_size, image_size)\n",
    "\n",
    "\n",
    "\n",
    "#model_name = 'model_small_c3d.h5'\n",
    "model_name = './output/small_c3d_CL12_train416_val180/model_small_c3d.h5'\n",
    "print(model_name)\n",
    "model = load_model(model_name)"
   ]
  },
  {
   "cell_type": "markdown",
   "metadata": {},
   "source": [
    "### Prediction"
   ]
  },
  {
   "cell_type": "code",
   "execution_count": 3,
   "metadata": {},
   "outputs": [
    {
     "name": "stdout",
     "output_type": "stream",
     "text": [
      "WARNING:tensorflow:From <ipython-input-3-dc39b51f3a47>:1: Model.evaluate_generator (from tensorflow.python.keras.engine.training) is deprecated and will be removed in a future version.\n",
      "Instructions for updating:\n",
      "Please use Model.evaluate, which supports generators.\n",
      "45/45 [==============================] - 16s 349ms/step - loss: 0.4664 - accuracy: 0.9056 - top_k_categorical_accuracy: 1.0000\n",
      "Validation accuracy: 0.9055555462837219\n"
     ]
    }
   ],
   "source": [
    "result = model.evaluate_generator(generator=validation_gen, steps=45, verbose=1)\n",
    "accuracy = result[1]\n",
    "print(\"Validation accuracy:\", accuracy)"
   ]
  },
  {
   "cell_type": "code",
   "execution_count": null,
   "metadata": {},
   "outputs": [],
   "source": []
  }
 ],
 "metadata": {
  "kernelspec": {
   "display_name": "Python 3",
   "language": "python",
   "name": "python3"
  },
  "language_info": {
   "codemirror_mode": {
    "name": "ipython",
    "version": 3
   },
   "file_extension": ".py",
   "mimetype": "text/x-python",
   "name": "python",
   "nbconvert_exporter": "python",
   "pygments_lexer": "ipython3",
   "version": "3.6.8"
  }
 },
 "nbformat": 4,
 "nbformat_minor": 2
}
